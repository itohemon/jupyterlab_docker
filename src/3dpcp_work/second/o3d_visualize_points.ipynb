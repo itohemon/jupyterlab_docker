{
 "cells": [
  {
   "cell_type": "code",
   "execution_count": 1,
   "id": "2288d04f-19be-478c-ad4e-6b4d3bbbee6e",
   "metadata": {},
   "outputs": [
    {
     "name": "stdout",
     "output_type": "stream",
     "text": [
      "Jupyter environment detected. Enabling Open3D WebVisualizer.\n",
      "[Open3D INFO] WebRTC GUI backend enabled.\n",
      "[Open3D INFO] WebRTCWindowSystem: HTTP handshake server disabled.\n"
     ]
    }
   ],
   "source": [
    "import sys\n",
    "import numpy as np\n",
    "import open3d as o3d"
   ]
  },
  {
   "cell_type": "code",
   "execution_count": 2,
   "id": "c3f1e71d-02a4-47ce-85a9-393ed92db8c4",
   "metadata": {},
   "outputs": [
    {
     "name": "stdout",
     "output_type": "stream",
     "text": [
      "Loading a point cloud from ../../3dpcp_book_codes/3rdparty/Open3D/examples/test_data/bathtub_0154.ply\n",
      "PointCloud with 1494 points.\n",
      "[[ -9208.08007812  19354.84960938  -6295.04980469]\n",
      " [ -1696.69995117  -3551.25        -6295.04980469]\n",
      " [  9129.29980469  19354.84960938  -6295.04980469]\n",
      " ...\n",
      " [ 14763.79980469  33464.55078125  13005.90039062]\n",
      " [ 14763.79980469 -33464.55078125   9068.90039062]\n",
      " [ 14763.79980469  33464.55078125   9068.90039062]]\n",
      "\u001b[1;33m[Open3D WARNING] GLFW Error: X11: The DISPLAY environment variable is missing\u001b[0;m\n",
      "\u001b[1;33m[Open3D WARNING] Failed to initialize GLFW\u001b[0;m\n",
      "\u001b[1;33m[Open3D WARNING] [DrawGeometries] Failed creating OpenGL window.\u001b[0;m\n"
     ]
    }
   ],
   "source": [
    "#filename = sys.argv[1]\n",
    "filename = \"../../3dpcp_book_codes/3rdparty/Open3D/examples/test_data/bathtub_0154.ply\"\n",
    "\n",
    "print(\"Loading a point cloud from\", filename)\n",
    "pcd = o3d.io.read_point_cloud(filename)\n",
    "\n",
    "print(pcd)\n",
    "print(np.asarray(pcd.points))\n",
    "\n",
    "o3d.visualization.draw_geometries([pcd])"
   ]
  }
 ],
 "metadata": {
  "kernelspec": {
   "display_name": "Python 3 (ipykernel)",
   "language": "python",
   "name": "python3"
  },
  "language_info": {
   "codemirror_mode": {
    "name": "ipython",
    "version": 3
   },
   "file_extension": ".py",
   "mimetype": "text/x-python",
   "name": "python",
   "nbconvert_exporter": "python",
   "pygments_lexer": "ipython3",
   "version": "3.10.13"
  }
 },
 "nbformat": 4,
 "nbformat_minor": 5
}
