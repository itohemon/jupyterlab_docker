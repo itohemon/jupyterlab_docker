{
 "cells": [
  {
   "cell_type": "code",
   "execution_count": 1,
   "id": "50800389-e89c-4eb9-8ae5-86b070ce9e6c",
   "metadata": {},
   "outputs": [],
   "source": [
    "import matplotlib.pyplot as plt\n",
    "import math\n",
    "import matplotlib.patches as patches\n",
    "import numpy as np"
   ]
  },
  {
   "cell_type": "code",
   "execution_count": 2,
   "id": "6761b19c-d94d-4fab-a287-c8b58c2d6f77",
   "metadata": {},
   "outputs": [],
   "source": [
    "class World:\n",
    "    def __init__(self):\n",
    "        self.objects = [] # ここにロボットなどのオブジェクトを登録\n",
    "\n",
    "    def append(self, obj):\n",
    "        self.objects.append(obj)\n",
    "\n",
    "    def draw(self):\n",
    "        fig = plt.figure(figsize=(8, 8)) # 8x8インチの図を準備\n",
    "        ax = fig.add_subplot(111) # サブプロットを準備\n",
    "        ax.set_aspect('equal') # 縦横比を座標の値と一致させる\n",
    "        ax.set_xlim((-5, 5)) # X軸を-5m x 5m の範囲で描画\n",
    "        ax.set_ylim((-5, 5)) # Y軸も同様\n",
    "        ax.set_xlabel(\"X\", fontsize=20)\n",
    "        ax.set_ylabel(\"Y\", fontsize=20)\n",
    "\n",
    "        for obj in self.objects: obj.draw(ax) # appendした物体を次々に描画\n",
    "\n",
    "        plt.show()"
   ]
  },
  {
   "cell_type": "code",
   "execution_count": 3,
   "id": "39e45401-62e3-4321-a7a9-71b45107703a",
   "metadata": {},
   "outputs": [],
   "source": [
    "class IdealRobot:\n",
    "    def __init__(self, pose, color=\"black\"):\n",
    "        self.pose = pose # 引数から姿勢の初期値を設定\n",
    "        self.r = 0.2 # これは描画のためなので固定値\n",
    "        self.color = color # 引数から描画するときの色を設定\n",
    "\n",
    "    def draw(self, ax):\n",
    "        x, y, theta = self.pose # 姿勢の変数を分解して３つの変数へ\n",
    "        xn = x + self.r * math.cos(theta) # ロボットの鼻先のX座標\n",
    "        yn = y + self.r * math.sin(theta) # ロボットの鼻先のY座標\n",
    "        ax.plot([x, xn], [y, yn], color=self.color) # ロボットの向きを示す線分の描画\n",
    "        c = patches.Circle(xy=(x, y), radius=self.r, fill=False, color=self.color)\n",
    "        ax.add_patch(c) # 上のpatches.Circleでロボットの胴体を示す円を作ってサププロットへ登録\n",
    "        "
   ]
  },
  {
   "cell_type": "code",
   "execution_count": 4,
   "id": "3ec0665a-49b2-4715-997f-8a90762d3f67",
   "metadata": {},
   "outputs": [
    {
     "data": {
      "image/png": "[encoded data removed]",
      "text/plain": [
       "<Figure size 800x800 with 1 Axes>"
      ]
     },
     "metadata": {},
     "output_type": "display_data"
    }
   ],
   "source": [
    "world = World()\n",
    "\n",
    "robot1 = IdealRobot( np.array([2, 3, math.pi/6]).T) # ロボットのインスタンス生成（色を省略）\n",
    "robot2 = IdealRobot( np.array([-2, -1, math.pi/5*6]).T, \"red\") # ロボットのインスタンスを生成（色を指定）\n",
    "\n",
    "world.append(robot1)\n",
    "world.append(robot2)\n",
    "\n",
    "world.draw()"
   ]
  }
 ],
 "metadata": {
  "kernelspec": {
   "display_name": "Python 3 (ipykernel)",
   "language": "python",
   "name": "python3"
  },
  "language_info": {
   "codemirror_mode": {
    "name": "ipython",
    "version": 3
   },
   "file_extension": ".py",
   "mimetype": "text/x-python",
   "name": "python",
   "nbconvert_exporter": "python",
   "pygments_lexer": "ipython3",
   "version": "3.10.14"
  }
 },
 "nbformat": 4,
 "nbformat_minor": 5
}
