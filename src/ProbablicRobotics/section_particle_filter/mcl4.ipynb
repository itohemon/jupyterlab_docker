{
 "cells": [
  {
   "cell_type": "code",
   "execution_count": 1,
   "id": "b556585b-ab06-4c2e-81fe-4f688d5d63a7",
   "metadata": {},
   "outputs": [],
   "source": [
    "import sys\n",
    "sys.path.append(\"../scripts/\")\n",
    "from robot import *\n",
    "from scipy.stats import multivariate_normal"
   ]
  },
  {
   "cell_type": "code",
   "execution_count": 2,
   "id": "b0f8ecba-deb2-48d1-a628-1b7a3c943fc7",
   "metadata": {},
   "outputs": [],
   "source": [
    "class Particle:\n",
    "    def __init__(self, init_pose):\n",
    "        self.pose = init_pose"
   ]
  },
  {
   "cell_type": "code",
   "execution_count": 3,
   "id": "d7b4235d-d670-4d8c-814e-835a509ba4ff",
   "metadata": {},
   "outputs": [],
   "source": [
    "class Mcl:\n",
    "    def __init__(self, init_pose, num, motion_noise_stds):\n",
    "        self.particles = [Particle(init_pose) for i in range(num)]\n",
    "\n",
    "        v = motion_noise_stds # 標準偏差σabに対応\n",
    "\n",
    "        # ４次元のガウス分布のオブジェクトを作る\n",
    "        c = np.diag([v[\"nn\"]**2, v[\"no\"]**2, v[\"on\"]**2, v[\"oo\"]**2]) # 対角行列を作って返す\n",
    "        self.motion_noise_rate_pdf = multivariate_normal(cov=c)\n",
    "\n",
    "    def motion_update(self, nu, omega, time):\n",
    "        print(self.motion_noise_rate_pdf.cov)\n",
    "    \n",
    "    def draw(self, ax, elems):\n",
    "        # 全パーティクルのX座標、Y座標をリスト化する\n",
    "        xs = [p.pose[0] for p in self.particles]\n",
    "        ys = [p.pose[1] for p in self.particles]\n",
    "\n",
    "        # パーティクルの向きを描画するために、向きをベクトルで表したときのX座標、Y座標成分のリストを作る\n",
    "        vxs = [math.cos(p.pose[2]) for p in self.particles]\n",
    "        vys = [math.sin(p.pose[2]) for p in self.particles]\n",
    "        \n",
    "        elems.append(ax.quiver(xs, ys, vxs, vys, color=\"blue\", alpha=0.5))"
   ]
  },
  {
   "cell_type": "code",
   "execution_count": 4,
   "id": "5baa252d-06b9-4d0f-a304-1f70db890c89",
   "metadata": {},
   "outputs": [],
   "source": [
    "class EstimationAgent(Agent):\n",
    "    def __init__(self, time_interval, nu, omega, estimator):\n",
    "        super().__init__(nu, omega)\n",
    "        self.estimator = estimator\n",
    "        self.time_interval = time_interval\n",
    "\n",
    "    def draw(self, ax, elems):\n",
    "        self.estimator.draw(ax, elems)"
   ]
  },
  {
   "cell_type": "code",
   "execution_count": 6,
   "id": "02d3df9f-bcea-4eca-bf20-006f162ba2d2",
   "metadata": {},
   "outputs": [
    {
     "name": "stdout",
     "output_type": "stream",
     "text": [
      "[[0.0001 0.     0.     0.    ]\n",
      " [0.     0.0004 0.     0.    ]\n",
      " [0.     0.     0.0009 0.    ]\n",
      " [0.     0.     0.     0.0016]]\n"
     ]
    }
   ],
   "source": [
    "initial_pose = np.array([0, 0, 0]).T\n",
    "estimator = Mcl(initial_pose, 100, motion_noise_stds={\"nn\":0.01, \"no\":0.02, \"on\":0.03, \"oo\":0.04})\n",
    "a = EstimationAgent(0.1, 0.2, 10.0/180*math.pi, estimator)\n",
    "estimator.motion_update(0.2, 10.0/180*math.pi, 0.1)"
   ]
  },
  {
   "cell_type": "code",
   "execution_count": null,
   "id": "34cfa317-e6bf-4a7c-8bb3-a5acf08c3ee3",
   "metadata": {},
   "outputs": [],
   "source": []
  }
 ],
 "metadata": {
  "kernelspec": {
   "display_name": "Python 3 (ipykernel)",
   "language": "python",
   "name": "python3"
  },
  "language_info": {
   "codemirror_mode": {
    "name": "ipython",
    "version": 3
   },
   "file_extension": ".py",
   "mimetype": "text/x-python",
   "name": "python",
   "nbconvert_exporter": "python",
   "pygments_lexer": "ipython3",
   "version": "3.10.14"
  }
 },
 "nbformat": 4,
 "nbformat_minor": 5
}
