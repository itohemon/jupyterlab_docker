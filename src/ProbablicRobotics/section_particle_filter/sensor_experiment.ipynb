{
 "cells": [
  {
   "cell_type": "code",
   "execution_count": 1,
   "id": "b6e75c6a-4dcf-4246-8997-7a64b29192d4",
   "metadata": {},
   "outputs": [
    {
     "data": {
      "text/html": [
       "<div>\n",
       "<style scoped>\n",
       "    .dataframe tbody tr th:only-of-type {\n",
       "        vertical-align: middle;\n",
       "    }\n",
       "\n",
       "    .dataframe tbody tr th {\n",
       "        vertical-align: top;\n",
       "    }\n",
       "\n",
       "    .dataframe thead th {\n",
       "        text-align: right;\n",
       "    }\n",
       "</style>\n",
       "<table border=\"1\" class=\"dataframe\">\n",
       "  <thead>\n",
       "    <tr style=\"text-align: right;\">\n",
       "      <th></th>\n",
       "      <th>distance</th>\n",
       "      <th>directon</th>\n",
       "    </tr>\n",
       "  </thead>\n",
       "  <tbody>\n",
       "    <tr>\n",
       "      <th>0</th>\n",
       "      <td>0.985156</td>\n",
       "      <td>-0.014528</td>\n",
       "    </tr>\n",
       "    <tr>\n",
       "      <th>1</th>\n",
       "      <td>0.936949</td>\n",
       "      <td>0.029759</td>\n",
       "    </tr>\n",
       "    <tr>\n",
       "      <th>2</th>\n",
       "      <td>0.985665</td>\n",
       "      <td>0.001974</td>\n",
       "    </tr>\n",
       "    <tr>\n",
       "      <th>3</th>\n",
       "      <td>0.995304</td>\n",
       "      <td>-0.020482</td>\n",
       "    </tr>\n",
       "    <tr>\n",
       "      <th>4</th>\n",
       "      <td>1.232752</td>\n",
       "      <td>-0.013887</td>\n",
       "    </tr>\n",
       "    <tr>\n",
       "      <th>...</th>\n",
       "      <td>...</td>\n",
       "      <td>...</td>\n",
       "    </tr>\n",
       "    <tr>\n",
       "      <th>887</th>\n",
       "      <td>0.801056</td>\n",
       "      <td>-0.073612</td>\n",
       "    </tr>\n",
       "    <tr>\n",
       "      <th>888</th>\n",
       "      <td>0.840331</td>\n",
       "      <td>0.026686</td>\n",
       "    </tr>\n",
       "    <tr>\n",
       "      <th>889</th>\n",
       "      <td>0.852669</td>\n",
       "      <td>-0.056137</td>\n",
       "    </tr>\n",
       "    <tr>\n",
       "      <th>890</th>\n",
       "      <td>1.051732</td>\n",
       "      <td>0.041238</td>\n",
       "    </tr>\n",
       "    <tr>\n",
       "      <th>891</th>\n",
       "      <td>0.828774</td>\n",
       "      <td>0.039864</td>\n",
       "    </tr>\n",
       "  </tbody>\n",
       "</table>\n",
       "<p>892 rows × 2 columns</p>\n",
       "</div>"
      ],
      "text/plain": [
       "     distance  directon\n",
       "0    0.985156 -0.014528\n",
       "1    0.936949  0.029759\n",
       "2    0.985665  0.001974\n",
       "3    0.995304 -0.020482\n",
       "4    1.232752 -0.013887\n",
       "..        ...       ...\n",
       "887  0.801056 -0.073612\n",
       "888  0.840331  0.026686\n",
       "889  0.852669 -0.056137\n",
       "890  1.051732  0.041238\n",
       "891  0.828774  0.039864\n",
       "\n",
       "[892 rows x 2 columns]"
      ]
     },
     "execution_count": 1,
     "metadata": {},
     "output_type": "execute_result"
    }
   ],
   "source": [
    "import sys\n",
    "sys.path.append(\"../scripts/\")\n",
    "from robot import *\n",
    "\n",
    "m = Map()\n",
    "m.append_landmark(Landmark(1, 0))\n",
    "\n",
    "distance = []\n",
    "direction = []\n",
    "\n",
    "for i in range(1000):\n",
    "    c = Camera(m) # バイアスの影響も考慮するため毎回カメラを新規作成\n",
    "    d = c.data(np.array([0.0, 0.0, 0.0]).T)\n",
    "    if len(d) > 0:\n",
    "        distance.append(d[0][0][0])\n",
    "        direction.append(d[0][0][1])\n",
    "\n",
    "import pandas as pd\n",
    "df = pd.DataFrame()\n",
    "df[\"distance\"] = distance\n",
    "df[\"directon\"] = direction\n",
    "df"
   ]
  },
  {
   "cell_type": "code",
   "execution_count": 2,
   "id": "42df3507-6feb-44bb-8899-5c1d33e887b1",
   "metadata": {},
   "outputs": [
    {
     "data": {
      "text/plain": [
       "distance    0.141990\n",
       "directon    0.049366\n",
       "dtype: float64"
      ]
     },
     "execution_count": 2,
     "metadata": {},
     "output_type": "execute_result"
    }
   ],
   "source": [
    "df.std()"
   ]
  },
  {
   "cell_type": "code",
   "execution_count": 3,
   "id": "9b7bf6af-1404-4039-82bc-c0217d9f605d",
   "metadata": {},
   "outputs": [
    {
     "data": {
      "text/plain": [
       "distance    0.994486\n",
       "directon   -0.003002\n",
       "dtype: float64"
      ]
     },
     "execution_count": 3,
     "metadata": {},
     "output_type": "execute_result"
    }
   ],
   "source": [
    "df.mean()"
   ]
  }
 ],
 "metadata": {
  "kernelspec": {
   "display_name": "Python 3 (ipykernel)",
   "language": "python",
   "name": "python3"
  },
  "language_info": {
   "codemirror_mode": {
    "name": "ipython",
    "version": 3
   },
   "file_extension": ".py",
   "mimetype": "text/x-python",
   "name": "python",
   "nbconvert_exporter": "python",
   "pygments_lexer": "ipython3",
   "version": "3.10.14"
  }
 },
 "nbformat": 4,
 "nbformat_minor": 5
}
