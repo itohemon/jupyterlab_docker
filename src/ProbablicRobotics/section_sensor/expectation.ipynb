{
 "cells": [
  {
   "cell_type": "code",
   "execution_count": 3,
   "id": "6fd0293b-bd03-4af0-b7da-528f03f23b5f",
   "metadata": {},
   "outputs": [
    {
     "data": {
      "text/plain": [
       "3.4875"
      ]
     },
     "execution_count": 3,
     "metadata": {},
     "output_type": "execute_result"
    }
   ],
   "source": [
    "import random\n",
    "\n",
    "samples = [random.choice([1, 2, 3, 4, 5, 6]) for i in range(10000)]\n",
    "\n",
    "sum(samples) / len(samples)"
   ]
  }
 ],
 "metadata": {
  "kernelspec": {
   "display_name": "Python 3 (ipykernel)",
   "language": "python",
   "name": "python3"
  },
  "language_info": {
   "codemirror_mode": {
    "name": "ipython",
    "version": 3
   },
   "file_extension": ".py",
   "mimetype": "text/x-python",
   "name": "python",
   "nbconvert_exporter": "python",
   "pygments_lexer": "ipython3",
   "version": "3.10.14"
  }
 },
 "nbformat": 4,
 "nbformat_minor": 5
}
